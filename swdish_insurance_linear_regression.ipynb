{
 "cells": [
  {
   "cell_type": "code",
   "execution_count": 1,
   "id": "38f94848",
   "metadata": {},
   "outputs": [],
   "source": [
    "#Libraries to be used are included\n",
    "import pandas as pd\n",
    "import numpy as np\n",
    "import matplotlib.pyplot as plt\n",
    "from utils import *\n",
    "import copy\n",
    "import math\n",
    "%matplotlib inline"
   ]
  },
  {
   "cell_type": "code",
   "execution_count": 2,
   "id": "b4c1d785",
   "metadata": {},
   "outputs": [],
   "source": [
    "#Data uploaded\n",
    "data = pd.read_csv(\"swedish_insurance.csv\")"
   ]
  },
  {
   "cell_type": "code",
   "execution_count": 3,
   "id": "e6ff3a61",
   "metadata": {},
   "outputs": [
    {
     "name": "stdout",
     "output_type": "stream",
     "text": [
      "<class 'pandas.core.frame.DataFrame'>\n",
      "RangeIndex: 63 entries, 0 to 62\n",
      "Data columns (total 2 columns):\n",
      " #   Column  Non-Null Count  Dtype  \n",
      "---  ------  --------------  -----  \n",
      " 0   X       63 non-null     int64  \n",
      " 1   Y       63 non-null     float64\n",
      "dtypes: float64(1), int64(1)\n",
      "memory usage: 1.1 KB\n"
     ]
    }
   ],
   "source": [
    "data.info()"
   ]
  },
  {
   "cell_type": "code",
   "execution_count": 4,
   "id": "eb1cb823",
   "metadata": {},
   "outputs": [],
   "source": [
    "x_train = data[\"X\"].to_numpy()\n",
    "y_train = data[\"Y\"].to_numpy()"
   ]
  },
  {
   "cell_type": "code",
   "execution_count": 5,
   "id": "f7df5062",
   "metadata": {
    "scrolled": true
   },
   "outputs": [
    {
     "name": "stdout",
     "output_type": "stream",
     "text": [
      "Type of x_train: <class 'numpy.ndarray'>\n",
      "Type of y_train: <class 'numpy.ndarray'>\n"
     ]
    }
   ],
   "source": [
    "print(\"Type of x_train:\", type(x_train))\n",
    "print(\"Type of y_train:\", type(y_train))"
   ]
  },
  {
   "cell_type": "code",
   "execution_count": 6,
   "id": "e322014e",
   "metadata": {},
   "outputs": [
    {
     "name": "stdout",
     "output_type": "stream",
     "text": [
      "The shape of x_train is: (63,)\n",
      "The shape of x_train is: (63,)\n"
     ]
    }
   ],
   "source": [
    "print(\"The shape of x_train is:\", x_train.shape)\n",
    "print(\"The shape of y_train is:\", y_train.shape)"
   ]
  },
  {
   "cell_type": "code",
   "execution_count": 7,
   "id": "586c0f23",
   "metadata": {},
   "outputs": [
    {
     "name": "stdout",
     "output_type": "stream",
     "text": [
      "First five elements of x_train: [108  19  13 124  40]\n",
      "First five elements of y_train: [392.5  46.2  15.7 422.2 119.4]\n",
      "Number of training examples(m): 63\n"
     ]
    }
   ],
   "source": [
    "print(\"First five elements of x_train:\", x_train[:5])\n",
    "print(\"First five elements of y_train:\", y_train[:5])\n",
    "print(\"Number of training examples(m):\", len(x_train))"
   ]
  },
  {
   "cell_type": "code",
   "execution_count": 8,
   "id": "e3c8fd35",
   "metadata": {},
   "outputs": [
    {
     "data": {
      "image/png": "[encoded data removed]",
      "text/plain": [
       "<Figure size 640x480 with 1 Axes>"
      ]
     },
     "metadata": {},
     "output_type": "display_data"
    }
   ],
   "source": [
    "#Create a scatter plot of the data.\n",
    "plt.scatter(x_train, y_train, marker='x', c='r')\n",
    "plt.title(\"Payment vs. Claim\")\n",
    "plt.ylabel(\"Payment in Claims\")\n",
    "plt.xlabel(\"Number of Claims\")\n",
    "plt.show()"
   ]
  },
  {
   "cell_type": "markdown",
   "id": "6d47ac61",
   "metadata": {},
   "source": [
    "## Compute Cost\n",
    "This function calculate cost for one variable linear regression using the following formula. \n",
    "\n",
    "$$J(w,b) = \\frac{1}{2m} \\sum\\limits_{i = 0}^{m-1} (f_{w,b}(x^{(i)}) - y^{(i)})^2$$ "
   ]
  },
  {
   "cell_type": "code",
   "execution_count": 31,
   "id": "7b5a29c3",
   "metadata": {},
   "outputs": [],
   "source": [
    "def compute_cost(x, y, w, b):\n",
    "    #Number of training examples\n",
    "    m = x.shape[0]\n",
    "    total_cost = 0\n",
    "    \n",
    "    for i in range(m):\n",
    "        f_wb = w * x[i] + b\n",
    "        cost = (f_wb - y[i]) ** 2\n",
    "        total_cost += cost\n",
    "\n",
    "    total_cost /= 2 * m\n",
    "    \n",
    "    return total_cost"
   ]
  },
  {
   "cell_type": "markdown",
   "id": "5ffc85c1",
   "metadata": {},
   "source": [
    "## Compute Gradient\n",
    "This function calculate $\\frac{\\partial J(w)}{\\partial w}$, $\\frac{\\partial J(w)}{\\partial b}$ using the following forumlas\n",
    "\n",
    " $$\n",
    "        \\frac{\\partial J(w,b)}{\\partial b}^{(i)}  =  (f_{w,b}(x^{(i)}) - y^{(i)}) \n",
    "        $$\n",
    "        $$\n",
    "        \\frac{\\partial J(w,b)}{\\partial w}^{(i)}  =  (f_{w,b}(x^{(i)}) -y^{(i)})x^{(i)} \n",
    "        $$\n",
    "        \n",
    " \n",
    "$$\n",
    "        \\frac{\\partial J(w,b)}{\\partial b}  = \\frac{1}{m} \\sum\\limits_{i = 0}^{m-1} \\frac{\\partial J(w,b)}{\\partial b}^{(i)}\n",
    "$$\n",
    "    \n",
    "$$\n",
    "    \\frac{\\partial J(w,b)}{\\partial w}  = \\frac{1}{m} \\sum\\limits_{i = 0}^{m-1} \\frac{\\partial J(w,b)}{\\partial w}^{(i)}\n",
    "$$"
   ]
  },
  {
   "cell_type": "code",
   "execution_count": 35,
   "id": "5ac676cf",
   "metadata": {},
   "outputs": [],
   "source": [
    "def compute_gradient(x, y, w, b):\n",
    "    #Number of training examples\n",
    "    m = x.shape[0]\n",
    "    dj_dw = 0\n",
    "    dj_db = 0\n",
    "    \n",
    "    for i in range(m):\n",
    "        f_wb = w * x[i] + b\n",
    "        temp_dw = (f_wb - y[i]) * x[i]\n",
    "        temp_db = f_wb - y[i]\n",
    "        \n",
    "        dj_dw += temp_dw\n",
    "        dj_db += temp_db\n",
    "        \n",
    "    dj_dw /= m\n",
    "    dj_db /= m\n",
    "    \n",
    "    return dj_dw, dj_db"
   ]
  },
  {
   "cell_type": "markdown",
   "id": "0329b16e",
   "metadata": {},
   "source": [
    "## Gradient Descent\n",
    "This function implement gradient descent algorithm\n",
    "\n",
    "$$\\begin{align*}& \\text{repeat until convergence:} \\; \\lbrace \\newline \\; & \\phantom {0000} b := b -  \\alpha \\frac{\\partial J(w,b)}{\\partial b} \\newline       \\; & \\phantom {0000} w := w -  \\alpha \\frac{\\partial J(w,b)}{\\partial w} \\tag{1}  \\; & \n",
    "\\newline & \\rbrace\\end{align*}$$"
   ]
  },
  {
   "cell_type": "code",
   "execution_count": 36,
   "id": "6175f513",
   "metadata": {},
   "outputs": [],
   "source": [
    "def gradient_descent(x, y, w_in, b_in, cost_function, gradient_function, alpha, num_iters):\n",
    "    #Number of training examples\n",
    "    m = x[0].shape\n",
    "    \n",
    "    #Store cost J and weight w for each iteration\n",
    "    J_history = []\n",
    "    w_history = []\n",
    "    w = copy.deepcopy(w_in) #avoid modifying global w within function\n",
    "    b = b_in\n",
    "    \n",
    "    for i in range(num_iters):\n",
    "        #Calculate gradient and update parameters\n",
    "        dj_dw, dj_db = gradient_function(x, y, w, b)\n",
    "        \n",
    "        w = w - alpha * dj_dw\n",
    "        b = b - alpha * dj_db\n",
    "        \n",
    "        if i<100000: # prevent resource exhaustion\n",
    "            #Calculate cost and save the array\n",
    "            cost = cost_function(x, y, w, b)\n",
    "            J_history.append(cost)\n",
    "        \n",
    "        #Print cost every at intervals 10 times\n",
    "        if i % math.ceil(num_iters/10) == 0:\n",
    "            w_history.append(w)\n",
    "            print(f\"Iteration {i:4}: Cost {float(J_history[-1]):8.2f} \")\n",
    "            \n",
    "    return w, b, J_history, w_history"
   ]
  },
  {
   "cell_type": "code",
   "execution_count": 45,
   "id": "02e4e770",
   "metadata": {
    "scrolled": false
   },
   "outputs": [
    {
     "name": "stdout",
     "output_type": "stream",
     "text": [
      "Iteration    0: Cost   755.46 \n",
      "Iteration 1000: Cost   661.80 \n",
      "Iteration 2000: Cost   638.63 \n",
      "Iteration 3000: Cost   630.19 \n",
      "Iteration 4000: Cost   627.13 \n",
      "Iteration 5000: Cost   626.01 \n",
      "Iteration 6000: Cost   625.60 \n",
      "Iteration 7000: Cost   625.46 \n",
      "Iteration 8000: Cost   625.40 \n",
      "Iteration 9000: Cost   625.38 \n",
      "w,b found by gradient descent: 3.4165637865140375 19.867578603427145\n"
     ]
    }
   ],
   "source": [
    "initial_w = 0\n",
    "initial_b = 0\n",
    "\n",
    "#Gradient descent settings\n",
    "iterations = 10000\n",
    "alpha = 0.001\n",
    "\n",
    "w,b,_,_ = gradient_descent(x_train ,y_train, initial_w, initial_b, \n",
    "                     compute_cost, compute_gradient, alpha, iterations)\n",
    "print(\"w,b found by gradient descent:\", w, b)"
   ]
  },
  {
   "cell_type": "code",
   "execution_count": 46,
   "id": "95f0f728",
   "metadata": {},
   "outputs": [],
   "source": [
    "m = x_train.shape[0]\n",
    "predicted = np.zeros(m)\n",
    "\n",
    "for i in range(m):\n",
    "    predicted[i] = w * x_train[i] + b"
   ]
  },
  {
   "cell_type": "code",
   "execution_count": 48,
   "id": "71ee2e4f",
   "metadata": {},
   "outputs": [
    {
     "data": {
      "image/png": "[encoded data removed]",
      "text/plain": [
       "<Figure size 640x480 with 1 Axes>"
      ]
     },
     "metadata": {},
     "output_type": "display_data"
    }
   ],
   "source": [
    "#Plot the linear fit and create a scatter plot\n",
    "plt.plot(x_train, predicted, c = \"b\")\n",
    "plt.scatter(x_train, y_train, marker='x', c='r')\n",
    "plt.title(\"Payment vs. Claim\")\n",
    "plt.ylabel(\"Payment in Claims\")\n",
    "plt.xlabel(\"Number of Claims\")\n",
    "plt.show()"
   ]
  },
  {
   "cell_type": "code",
   "execution_count": null,
   "id": "5ebf8391",
   "metadata": {},
   "outputs": [],
   "source": []
  }
 ],
 "metadata": {
  "kernelspec": {
   "display_name": "Python 3 (ipykernel)",
   "language": "python",
   "name": "python3"
  },
  "language_info": {
   "codemirror_mode": {
    "name": "ipython",
    "version": 3
   },
   "file_extension": ".py",
   "mimetype": "text/x-python",
   "name": "python",
   "nbconvert_exporter": "python",
   "pygments_lexer": "ipython3",
   "version": "3.11.3"
  }
 },
 "nbformat": 4,
 "nbformat_minor": 5
}
